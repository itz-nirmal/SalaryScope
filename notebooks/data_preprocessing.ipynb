{
 "cells": [
  {
   "cell_type": "markdown",
   "metadata": {},
   "source": [
    "# SalaryScope - Data Preprocessing & Cleaning\n",
    "\n",
    "This notebook performs comprehensive data preprocessing and cleaning on three datasets for the Employee Salary Prediction AI/ML Project."
   ]
  },
  {
   "cell_type": "markdown",
   "metadata": {},
   "source": [
    "## Step 1: Import Required Libraries"
   ]
  },
  {
   "cell_type": "code",
   "execution_count": 6,
   "metadata": {},
   "outputs": [],
   "source": [
    "import pandas as pd\n",
    "import numpy as np\n",
    "import warnings\n",
    "warnings.filterwarnings('ignore')\n",
    "\n",
    "# Display settings\n",
    "pd.set_option('display.max_columns', None)\n",
    "pd.set_option('display.max_rows', 100)"
   ]
  },
  {
   "cell_type": "markdown",
   "metadata": {},
   "source": [
    "## Step 2: Load the Datasets"
   ]
  },
  {
   "cell_type": "code",
   "execution_count": 7,
   "metadata": {},
   "outputs": [
    {
     "name": "stdout",
     "output_type": "stream",
     "text": [
      "DataSet1 shape: (500, 4)\n",
      "\n",
      "DataSet1 columns: ['YearsExperience', 'EducationLevel', 'HoursWorkedPerWeek', 'MonthlySalary']\n",
      "\n",
      "DataSet1 first 5 rows:\n"
     ]
    },
    {
     "data": {
      "application/vnd.microsoft.datawrangler.viewer.v0+json": {
       "columns": [
        {
         "name": "index",
         "rawType": "int64",
         "type": "integer"
        },
        {
         "name": "YearsExperience",
         "rawType": "float64",
         "type": "float"
        },
        {
         "name": "EducationLevel",
         "rawType": "float64",
         "type": "float"
        },
        {
         "name": "HoursWorkedPerWeek",
         "rawType": "float64",
         "type": "float"
        },
        {
         "name": "MonthlySalary",
         "rawType": "float64",
         "type": "float"
        }
       ],
       "ref": "1adf6e04-9791-4348-9c58-ef49ee1e5930",
       "rows": [
        [
         "0",
         "54.96714153011233",
         "34.630887737658206",
         "127.98710873172004",
         "203.0542645177105"
        ],
        [
         "1",
         "48.61735698828815",
         "39.54708320235065",
         "118.49267365825536",
         "156.4901918356337"
        ],
        [
         "2",
         "56.47688538100692",
         "23.00716213090429",
         "101.19260739840348",
         "187.67067944122965"
        ],
        [
         "3",
         "65.23029856408026",
         "32.81484618345286",
         "87.06126444588853",
         "187.3304167071757"
        ],
        [
         "4",
         "47.65846625276664",
         "26.746787154390866",
         "113.9644662722718",
         "176.86812217380836"
        ]
       ],
       "shape": {
        "columns": 4,
        "rows": 5
       }
      },
      "text/html": [
       "<div>\n",
       "<style scoped>\n",
       "    .dataframe tbody tr th:only-of-type {\n",
       "        vertical-align: middle;\n",
       "    }\n",
       "\n",
       "    .dataframe tbody tr th {\n",
       "        vertical-align: top;\n",
       "    }\n",
       "\n",
       "    .dataframe thead th {\n",
       "        text-align: right;\n",
       "    }\n",
       "</style>\n",
       "<table border=\"1\" class=\"dataframe\">\n",
       "  <thead>\n",
       "    <tr style=\"text-align: right;\">\n",
       "      <th></th>\n",
       "      <th>YearsExperience</th>\n",
       "      <th>EducationLevel</th>\n",
       "      <th>HoursWorkedPerWeek</th>\n",
       "      <th>MonthlySalary</th>\n",
       "    </tr>\n",
       "  </thead>\n",
       "  <tbody>\n",
       "    <tr>\n",
       "      <th>0</th>\n",
       "      <td>54.967142</td>\n",
       "      <td>34.630888</td>\n",
       "      <td>127.987109</td>\n",
       "      <td>203.054265</td>\n",
       "    </tr>\n",
       "    <tr>\n",
       "      <th>1</th>\n",
       "      <td>48.617357</td>\n",
       "      <td>39.547083</td>\n",
       "      <td>118.492674</td>\n",
       "      <td>156.490192</td>\n",
       "    </tr>\n",
       "    <tr>\n",
       "      <th>2</th>\n",
       "      <td>56.476885</td>\n",
       "      <td>23.007162</td>\n",
       "      <td>101.192607</td>\n",
       "      <td>187.670679</td>\n",
       "    </tr>\n",
       "    <tr>\n",
       "      <th>3</th>\n",
       "      <td>65.230299</td>\n",
       "      <td>32.814846</td>\n",
       "      <td>87.061264</td>\n",
       "      <td>187.330417</td>\n",
       "    </tr>\n",
       "    <tr>\n",
       "      <th>4</th>\n",
       "      <td>47.658466</td>\n",
       "      <td>26.746787</td>\n",
       "      <td>113.964466</td>\n",
       "      <td>176.868122</td>\n",
       "    </tr>\n",
       "  </tbody>\n",
       "</table>\n",
       "</div>"
      ],
      "text/plain": [
       "   YearsExperience  EducationLevel  HoursWorkedPerWeek  MonthlySalary\n",
       "0        54.967142       34.630888          127.987109     203.054265\n",
       "1        48.617357       39.547083          118.492674     156.490192\n",
       "2        56.476885       23.007162          101.192607     187.670679\n",
       "3        65.230299       32.814846           87.061264     187.330417\n",
       "4        47.658466       26.746787          113.964466     176.868122"
      ]
     },
     "execution_count": 7,
     "metadata": {},
     "output_type": "execute_result"
    }
   ],
   "source": [
    "# Load DataSet1\n",
    "df1 = pd.read_csv('DataSet1.csv')\n",
    "print(\"DataSet1 shape:\", df1.shape)\n",
    "print(\"\\nDataSet1 columns:\", df1.columns.tolist())\n",
    "print(\"\\nDataSet1 first 5 rows:\")\n",
    "df1.head()"
   ]
  },
  {
   "cell_type": "code",
   "execution_count": 8,
   "metadata": {},
   "outputs": [
    {
     "name": "stdout",
     "output_type": "stream",
     "text": [
      "DataSet2 shape: (375, 6)\n",
      "\n",
      "DataSet2 columns: ['Age', 'Gender', 'Education Level', 'Job Title', 'Years of Experience', 'Salary']\n",
      "\n",
      "DataSet2 first 5 rows:\n"
     ]
    },
    {
     "data": {
      "application/vnd.microsoft.datawrangler.viewer.v0+json": {
       "columns": [
        {
         "name": "index",
         "rawType": "int64",
         "type": "integer"
        },
        {
         "name": "Age",
         "rawType": "float64",
         "type": "float"
        },
        {
         "name": "Gender",
         "rawType": "object",
         "type": "string"
        },
        {
         "name": "Education Level",
         "rawType": "object",
         "type": "string"
        },
        {
         "name": "Job Title",
         "rawType": "object",
         "type": "string"
        },
        {
         "name": "Years of Experience",
         "rawType": "float64",
         "type": "float"
        },
        {
         "name": "Salary",
         "rawType": "float64",
         "type": "float"
        }
       ],
       "ref": "f584eb89-5ac6-4ce3-a431-df539bcbdcb4",
       "rows": [
        [
         "0",
         "32.0",
         "Male",
         "Bachelor's",
         "Software Engineer",
         "5.0",
         "90000.0"
        ],
        [
         "1",
         "28.0",
         "Female",
         "Master's",
         "Data Analyst",
         "3.0",
         "65000.0"
        ],
        [
         "2",
         "45.0",
         "Male",
         "PhD",
         "Senior Manager",
         "15.0",
         "150000.0"
        ],
        [
         "3",
         "36.0",
         "Female",
         "Bachelor's",
         "Sales Associate",
         "7.0",
         "60000.0"
        ],
        [
         "4",
         "52.0",
         "Male",
         "Master's",
         "Director",
         "20.0",
         "200000.0"
        ]
       ],
       "shape": {
        "columns": 6,
        "rows": 5
       }
      },
      "text/html": [
       "<div>\n",
       "<style scoped>\n",
       "    .dataframe tbody tr th:only-of-type {\n",
       "        vertical-align: middle;\n",
       "    }\n",
       "\n",
       "    .dataframe tbody tr th {\n",
       "        vertical-align: top;\n",
       "    }\n",
       "\n",
       "    .dataframe thead th {\n",
       "        text-align: right;\n",
       "    }\n",
       "</style>\n",
       "<table border=\"1\" class=\"dataframe\">\n",
       "  <thead>\n",
       "    <tr style=\"text-align: right;\">\n",
       "      <th></th>\n",
       "      <th>Age</th>\n",
       "      <th>Gender</th>\n",
       "      <th>Education Level</th>\n",
       "      <th>Job Title</th>\n",
       "      <th>Years of Experience</th>\n",
       "      <th>Salary</th>\n",
       "    </tr>\n",
       "  </thead>\n",
       "  <tbody>\n",
       "    <tr>\n",
       "      <th>0</th>\n",
       "      <td>32.0</td>\n",
       "      <td>Male</td>\n",
       "      <td>Bachelor's</td>\n",
       "      <td>Software Engineer</td>\n",
       "      <td>5.0</td>\n",
       "      <td>90000.0</td>\n",
       "    </tr>\n",
       "    <tr>\n",
       "      <th>1</th>\n",
       "      <td>28.0</td>\n",
       "      <td>Female</td>\n",
       "      <td>Master's</td>\n",
       "      <td>Data Analyst</td>\n",
       "      <td>3.0</td>\n",
       "      <td>65000.0</td>\n",
       "    </tr>\n",
       "    <tr>\n",
       "      <th>2</th>\n",
       "      <td>45.0</td>\n",
       "      <td>Male</td>\n",
       "      <td>PhD</td>\n",
       "      <td>Senior Manager</td>\n",
       "      <td>15.0</td>\n",
       "      <td>150000.0</td>\n",
       "    </tr>\n",
       "    <tr>\n",
       "      <th>3</th>\n",
       "      <td>36.0</td>\n",
       "      <td>Female</td>\n",
       "      <td>Bachelor's</td>\n",
       "      <td>Sales Associate</td>\n",
       "      <td>7.0</td>\n",
       "      <td>60000.0</td>\n",
       "    </tr>\n",
       "    <tr>\n",
       "      <th>4</th>\n",
       "      <td>52.0</td>\n",
       "      <td>Male</td>\n",
       "      <td>Master's</td>\n",
       "      <td>Director</td>\n",
       "      <td>20.0</td>\n",
       "      <td>200000.0</td>\n",
       "    </tr>\n",
       "  </tbody>\n",
       "</table>\n",
       "</div>"
      ],
      "text/plain": [
       "    Age  Gender Education Level          Job Title  Years of Experience  \\\n",
       "0  32.0    Male      Bachelor's  Software Engineer                  5.0   \n",
       "1  28.0  Female        Master's       Data Analyst                  3.0   \n",
       "2  45.0    Male             PhD     Senior Manager                 15.0   \n",
       "3  36.0  Female      Bachelor's    Sales Associate                  7.0   \n",
       "4  52.0    Male        Master's           Director                 20.0   \n",
       "\n",
       "     Salary  \n",
       "0   90000.0  \n",
       "1   65000.0  \n",
       "2  150000.0  \n",
       "3   60000.0  \n",
       "4  200000.0  "
      ]
     },
     "execution_count": 8,
     "metadata": {},
     "output_type": "execute_result"
    }
   ],
   "source": [
    "# Load DataSet2\n",
    "df2 = pd.read_csv('DataSet2.csv', encoding='utf-8-sig')\n",
    "print(\"DataSet2 shape:\", df2.shape)\n",
    "print(\"\\nDataSet2 columns:\", df2.columns.tolist())\n",
    "print(\"\\nDataSet2 first 5 rows:\")\n",
    "df2.head()"
   ]
  },
  {
   "cell_type": "code",
   "execution_count": 9,
   "metadata": {},
   "outputs": [
    {
     "name": "stdout",
     "output_type": "stream",
     "text": [
      "DataSet3 shape: (48841, 15)\n",
      "\n",
      "DataSet3 columns: ['25', 'Private', '226802', '11th', '7', 'Never-married', 'Machine-op-inspct', 'Own-child', 'Black', 'Male', '0', '0.1', '40', 'United-States', '<=50K']\n",
      "\n",
      "DataSet3 first 5 rows:\n"
     ]
    },
    {
     "data": {
      "application/vnd.microsoft.datawrangler.viewer.v0+json": {
       "columns": [
        {
         "name": "index",
         "rawType": "int64",
         "type": "integer"
        },
        {
         "name": "25",
         "rawType": "int64",
         "type": "integer"
        },
        {
         "name": "Private",
         "rawType": "object",
         "type": "string"
        },
        {
         "name": "226802",
         "rawType": "int64",
         "type": "integer"
        },
        {
         "name": "11th",
         "rawType": "object",
         "type": "string"
        },
        {
         "name": "7",
         "rawType": "int64",
         "type": "integer"
        },
        {
         "name": "Never-married",
         "rawType": "object",
         "type": "string"
        },
        {
         "name": "Machine-op-inspct",
         "rawType": "object",
         "type": "string"
        },
        {
         "name": "Own-child",
         "rawType": "object",
         "type": "string"
        },
        {
         "name": "Black",
         "rawType": "object",
         "type": "string"
        },
        {
         "name": "Male",
         "rawType": "object",
         "type": "string"
        },
        {
         "name": "0",
         "rawType": "int64",
         "type": "integer"
        },
        {
         "name": "0.1",
         "rawType": "int64",
         "type": "integer"
        },
        {
         "name": "40",
         "rawType": "int64",
         "type": "integer"
        },
        {
         "name": "United-States",
         "rawType": "object",
         "type": "string"
        },
        {
         "name": "<=50K",
         "rawType": "object",
         "type": "string"
        }
       ],
       "ref": "de35a228-f70a-403d-9f31-8c8240343cc4",
       "rows": [
        [
         "0",
         "38",
         "Private",
         "89814",
         "HS-grad",
         "9",
         "Married-civ-spouse",
         "Farming-fishing",
         "Husband",
         "White",
         "Male",
         "0",
         "0",
         "50",
         "United-States",
         "<=50K"
        ],
        [
         "1",
         "28",
         "Local-gov",
         "336951",
         "Assoc-acdm",
         "12",
         "Married-civ-spouse",
         "Protective-serv",
         "Husband",
         "White",
         "Male",
         "0",
         "0",
         "40",
         "United-States",
         ">50K"
        ],
        [
         "2",
         "44",
         "Private",
         "160323",
         "Some-college",
         "10",
         "Married-civ-spouse",
         "Machine-op-inspct",
         "Husband",
         "Black",
         "Male",
         "7688",
         "0",
         "40",
         "United-States",
         ">50K"
        ],
        [
         "3",
         "18",
         "?",
         "103497",
         "Some-college",
         "10",
         "Never-married",
         "?",
         "Own-child",
         "White",
         "Female",
         "0",
         "0",
         "30",
         "United-States",
         "<=50K"
        ],
        [
         "4",
         "34",
         "Private",
         "198693",
         "10th",
         "6",
         "Never-married",
         "Other-service",
         "Not-in-family",
         "White",
         "Male",
         "0",
         "0",
         "30",
         "United-States",
         "<=50K"
        ]
       ],
       "shape": {
        "columns": 15,
        "rows": 5
       }
      },
      "text/html": [
       "<div>\n",
       "<style scoped>\n",
       "    .dataframe tbody tr th:only-of-type {\n",
       "        vertical-align: middle;\n",
       "    }\n",
       "\n",
       "    .dataframe tbody tr th {\n",
       "        vertical-align: top;\n",
       "    }\n",
       "\n",
       "    .dataframe thead th {\n",
       "        text-align: right;\n",
       "    }\n",
       "</style>\n",
       "<table border=\"1\" class=\"dataframe\">\n",
       "  <thead>\n",
       "    <tr style=\"text-align: right;\">\n",
       "      <th></th>\n",
       "      <th>25</th>\n",
       "      <th>Private</th>\n",
       "      <th>226802</th>\n",
       "      <th>11th</th>\n",
       "      <th>7</th>\n",
       "      <th>Never-married</th>\n",
       "      <th>Machine-op-inspct</th>\n",
       "      <th>Own-child</th>\n",
       "      <th>Black</th>\n",
       "      <th>Male</th>\n",
       "      <th>0</th>\n",
       "      <th>0.1</th>\n",
       "      <th>40</th>\n",
       "      <th>United-States</th>\n",
       "      <th>&lt;=50K</th>\n",
       "    </tr>\n",
       "  </thead>\n",
       "  <tbody>\n",
       "    <tr>\n",
       "      <th>0</th>\n",
       "      <td>38</td>\n",
       "      <td>Private</td>\n",
       "      <td>89814</td>\n",
       "      <td>HS-grad</td>\n",
       "      <td>9</td>\n",
       "      <td>Married-civ-spouse</td>\n",
       "      <td>Farming-fishing</td>\n",
       "      <td>Husband</td>\n",
       "      <td>White</td>\n",
       "      <td>Male</td>\n",
       "      <td>0</td>\n",
       "      <td>0</td>\n",
       "      <td>50</td>\n",
       "      <td>United-States</td>\n",
       "      <td>&lt;=50K</td>\n",
       "    </tr>\n",
       "    <tr>\n",
       "      <th>1</th>\n",
       "      <td>28</td>\n",
       "      <td>Local-gov</td>\n",
       "      <td>336951</td>\n",
       "      <td>Assoc-acdm</td>\n",
       "      <td>12</td>\n",
       "      <td>Married-civ-spouse</td>\n",
       "      <td>Protective-serv</td>\n",
       "      <td>Husband</td>\n",
       "      <td>White</td>\n",
       "      <td>Male</td>\n",
       "      <td>0</td>\n",
       "      <td>0</td>\n",
       "      <td>40</td>\n",
       "      <td>United-States</td>\n",
       "      <td>&gt;50K</td>\n",
       "    </tr>\n",
       "    <tr>\n",
       "      <th>2</th>\n",
       "      <td>44</td>\n",
       "      <td>Private</td>\n",
       "      <td>160323</td>\n",
       "      <td>Some-college</td>\n",
       "      <td>10</td>\n",
       "      <td>Married-civ-spouse</td>\n",
       "      <td>Machine-op-inspct</td>\n",
       "      <td>Husband</td>\n",
       "      <td>Black</td>\n",
       "      <td>Male</td>\n",
       "      <td>7688</td>\n",
       "      <td>0</td>\n",
       "      <td>40</td>\n",
       "      <td>United-States</td>\n",
       "      <td>&gt;50K</td>\n",
       "    </tr>\n",
       "    <tr>\n",
       "      <th>3</th>\n",
       "      <td>18</td>\n",
       "      <td>?</td>\n",
       "      <td>103497</td>\n",
       "      <td>Some-college</td>\n",
       "      <td>10</td>\n",
       "      <td>Never-married</td>\n",
       "      <td>?</td>\n",
       "      <td>Own-child</td>\n",
       "      <td>White</td>\n",
       "      <td>Female</td>\n",
       "      <td>0</td>\n",
       "      <td>0</td>\n",
       "      <td>30</td>\n",
       "      <td>United-States</td>\n",
       "      <td>&lt;=50K</td>\n",
       "    </tr>\n",
       "    <tr>\n",
       "      <th>4</th>\n",
       "      <td>34</td>\n",
       "      <td>Private</td>\n",
       "      <td>198693</td>\n",
       "      <td>10th</td>\n",
       "      <td>6</td>\n",
       "      <td>Never-married</td>\n",
       "      <td>Other-service</td>\n",
       "      <td>Not-in-family</td>\n",
       "      <td>White</td>\n",
       "      <td>Male</td>\n",
       "      <td>0</td>\n",
       "      <td>0</td>\n",
       "      <td>30</td>\n",
       "      <td>United-States</td>\n",
       "      <td>&lt;=50K</td>\n",
       "    </tr>\n",
       "  </tbody>\n",
       "</table>\n",
       "</div>"
      ],
      "text/plain": [
       "   25    Private  226802          11th   7       Never-married  \\\n",
       "0  38    Private   89814       HS-grad   9  Married-civ-spouse   \n",
       "1  28  Local-gov  336951    Assoc-acdm  12  Married-civ-spouse   \n",
       "2  44    Private  160323  Some-college  10  Married-civ-spouse   \n",
       "3  18          ?  103497  Some-college  10       Never-married   \n",
       "4  34    Private  198693          10th   6       Never-married   \n",
       "\n",
       "   Machine-op-inspct      Own-child  Black    Male     0  0.1  40  \\\n",
       "0    Farming-fishing        Husband  White    Male     0    0  50   \n",
       "1    Protective-serv        Husband  White    Male     0    0  40   \n",
       "2  Machine-op-inspct        Husband  Black    Male  7688    0  40   \n",
       "3                  ?      Own-child  White  Female     0    0  30   \n",
       "4      Other-service  Not-in-family  White    Male     0    0  30   \n",
       "\n",
       "   United-States  <=50K  \n",
       "0  United-States  <=50K  \n",
       "1  United-States   >50K  \n",
       "2  United-States   >50K  \n",
       "3  United-States  <=50K  \n",
       "4  United-States  <=50K  "
      ]
     },
     "execution_count": 9,
     "metadata": {},
     "output_type": "execute_result"
    }
   ],
   "source": [
    "# Load DataSet3 - This is a large file, so we'll load it in chunks if needed\n",
    "df3 = pd.read_csv('DataSet3.csv', skiprows=1)  # Skip the second header row\n",
    "print(\"DataSet3 shape:\", df3.shape)\n",
    "print(\"\\nDataSet3 columns:\", df3.columns.tolist())\n",
    "print(\"\\nDataSet3 first 5 rows:\")\n",
    "df3.head()"
   ]
  },
  {
   "cell_type": "markdown",
   "metadata": {},
   "source": [
    "## Step 3: Analyze and Standardize the Datasets"
   ]
  },
  {
   "cell_type": "code",
   "execution_count": 10,
   "metadata": {},
   "outputs": [
    {
     "name": "stdout",
     "output_type": "stream",
     "text": [
      "Missing values in DataSet1:\n",
      "YearsExperience       0\n",
      "EducationLevel        0\n",
      "HoursWorkedPerWeek    0\n",
      "MonthlySalary         0\n",
      "dtype: int64\n",
      "\n",
      "==================================================\n",
      "\n",
      "Missing values in DataSet2:\n",
      "Age                    2\n",
      "Gender                 2\n",
      "Education Level        2\n",
      "Job Title              2\n",
      "Years of Experience    2\n",
      "Salary                 2\n",
      "dtype: int64\n",
      "\n",
      "==================================================\n",
      "\n",
      "Missing values in DataSet3:\n",
      "25                   0\n",
      "Private              0\n",
      "226802               0\n",
      "11th                 0\n",
      "7                    0\n",
      "Never-married        0\n",
      "Machine-op-inspct    0\n",
      "Own-child            0\n",
      "Black                0\n",
      "Male                 0\n",
      "0                    0\n",
      "0.1                  0\n",
      "40                   0\n",
      "United-States        0\n",
      "<=50K                0\n",
      "dtype: int64\n"
     ]
    }
   ],
   "source": [
    "# Check for missing values in each dataset\n",
    "print(\"Missing values in DataSet1:\")\n",
    "print(df1.isnull().sum())\n",
    "print(\"\\n\" + \"=\"*50 + \"\\n\")\n",
    "\n",
    "print(\"Missing values in DataSet2:\")\n",
    "print(df2.isnull().sum())\n",
    "print(\"\\n\" + \"=\"*50 + \"\\n\")\n",
    "\n",
    "print(\"Missing values in DataSet3:\")\n",
    "print(df3.isnull().sum())"
   ]
  },
  {
   "cell_type": "markdown",
   "metadata": {},
   "source": [
    "## Step 4: Process DataSet1\n",
    "\n",
    "DataSet1 contains numerical education levels that need to be mapped to categorical values."
   ]
  },
  {
   "cell_type": "code",
   "execution_count": 11,
   "metadata": {},
   "outputs": [
    {
     "name": "stdout",
     "output_type": "stream",
     "text": [
      "Processed DataSet1 shape: (500, 8)\n"
     ]
    },
    {
     "data": {
      "application/vnd.microsoft.datawrangler.viewer.v0+json": {
       "columns": [
        {
         "name": "index",
         "rawType": "int64",
         "type": "integer"
        },
        {
         "name": "Age",
         "rawType": "int64",
         "type": "integer"
        },
        {
         "name": "Gender",
         "rawType": "object",
         "type": "string"
        },
        {
         "name": "Education Level",
         "rawType": "object",
         "type": "string"
        },
        {
         "name": "Years of Experience",
         "rawType": "int64",
         "type": "integer"
        },
        {
         "name": "Work Hours",
         "rawType": "int64",
         "type": "integer"
        },
        {
         "name": "Salary",
         "rawType": "float64",
         "type": "float"
        },
        {
         "name": "Job Title",
         "rawType": "object",
         "type": "string"
        },
        {
         "name": "Industry",
         "rawType": "object",
         "type": "string"
        }
       ],
       "ref": "8184dc6b-1321-489d-8baf-a8d2d04fb2dc",
       "rows": [
        [
         "0",
         "77",
         "Male",
         "PHD",
         "55",
         "128",
         "2436.651174212526",
         "Customer Service Rep",
         "Other"
        ],
        [
         "1",
         "71",
         "Female",
         "PHD",
         "49",
         "118",
         "1877.8823020276045",
         "Junior Developer",
         "IT/Tech"
        ],
        [
         "2",
         "78",
         "Female",
         "PHD",
         "56",
         "101",
         "2252.048153294756",
         "Junior Developer",
         "IT/Tech"
        ],
        [
         "3",
         "87",
         "Female",
         "PHD",
         "65",
         "87",
         "2247.9650004861082",
         "Junior Developer",
         "IT/Tech"
        ],
        [
         "4",
         "70",
         "Male",
         "PHD",
         "48",
         "114",
         "2122.4174660857",
         "Junior Developer",
         "IT/Tech"
        ]
       ],
       "shape": {
        "columns": 8,
        "rows": 5
       }
      },
      "text/html": [
       "<div>\n",
       "<style scoped>\n",
       "    .dataframe tbody tr th:only-of-type {\n",
       "        vertical-align: middle;\n",
       "    }\n",
       "\n",
       "    .dataframe tbody tr th {\n",
       "        vertical-align: top;\n",
       "    }\n",
       "\n",
       "    .dataframe thead th {\n",
       "        text-align: right;\n",
       "    }\n",
       "</style>\n",
       "<table border=\"1\" class=\"dataframe\">\n",
       "  <thead>\n",
       "    <tr style=\"text-align: right;\">\n",
       "      <th></th>\n",
       "      <th>Age</th>\n",
       "      <th>Gender</th>\n",
       "      <th>Education Level</th>\n",
       "      <th>Years of Experience</th>\n",
       "      <th>Work Hours</th>\n",
       "      <th>Salary</th>\n",
       "      <th>Job Title</th>\n",
       "      <th>Industry</th>\n",
       "    </tr>\n",
       "  </thead>\n",
       "  <tbody>\n",
       "    <tr>\n",
       "      <th>0</th>\n",
       "      <td>77</td>\n",
       "      <td>Male</td>\n",
       "      <td>PHD</td>\n",
       "      <td>55</td>\n",
       "      <td>128</td>\n",
       "      <td>2436.651174</td>\n",
       "      <td>Customer Service Rep</td>\n",
       "      <td>Other</td>\n",
       "    </tr>\n",
       "    <tr>\n",
       "      <th>1</th>\n",
       "      <td>71</td>\n",
       "      <td>Female</td>\n",
       "      <td>PHD</td>\n",
       "      <td>49</td>\n",
       "      <td>118</td>\n",
       "      <td>1877.882302</td>\n",
       "      <td>Junior Developer</td>\n",
       "      <td>IT/Tech</td>\n",
       "    </tr>\n",
       "    <tr>\n",
       "      <th>2</th>\n",
       "      <td>78</td>\n",
       "      <td>Female</td>\n",
       "      <td>PHD</td>\n",
       "      <td>56</td>\n",
       "      <td>101</td>\n",
       "      <td>2252.048153</td>\n",
       "      <td>Junior Developer</td>\n",
       "      <td>IT/Tech</td>\n",
       "    </tr>\n",
       "    <tr>\n",
       "      <th>3</th>\n",
       "      <td>87</td>\n",
       "      <td>Female</td>\n",
       "      <td>PHD</td>\n",
       "      <td>65</td>\n",
       "      <td>87</td>\n",
       "      <td>2247.965000</td>\n",
       "      <td>Junior Developer</td>\n",
       "      <td>IT/Tech</td>\n",
       "    </tr>\n",
       "    <tr>\n",
       "      <th>4</th>\n",
       "      <td>70</td>\n",
       "      <td>Male</td>\n",
       "      <td>PHD</td>\n",
       "      <td>48</td>\n",
       "      <td>114</td>\n",
       "      <td>2122.417466</td>\n",
       "      <td>Junior Developer</td>\n",
       "      <td>IT/Tech</td>\n",
       "    </tr>\n",
       "  </tbody>\n",
       "</table>\n",
       "</div>"
      ],
      "text/plain": [
       "   Age  Gender Education Level  Years of Experience  Work Hours       Salary  \\\n",
       "0   77    Male             PHD                   55         128  2436.651174   \n",
       "1   71  Female             PHD                   49         118  1877.882302   \n",
       "2   78  Female             PHD                   56         101  2252.048153   \n",
       "3   87  Female             PHD                   65          87  2247.965000   \n",
       "4   70    Male             PHD                   48         114  2122.417466   \n",
       "\n",
       "              Job Title Industry  \n",
       "0  Customer Service Rep    Other  \n",
       "1      Junior Developer  IT/Tech  \n",
       "2      Junior Developer  IT/Tech  \n",
       "3      Junior Developer  IT/Tech  \n",
       "4      Junior Developer  IT/Tech  "
      ]
     },
     "execution_count": 11,
     "metadata": {},
     "output_type": "execute_result"
    }
   ],
   "source": [
    "# Create education level mapping based on numerical values\n",
    "# Assuming the numerical values represent years of education\n",
    "def map_education_level(years):\n",
    "    if years < 10:\n",
    "        return '10th'\n",
    "    elif years < 12:\n",
    "        return '12th'\n",
    "    elif years < 14:\n",
    "        return 'ITI/Diploma'\n",
    "    elif years < 16:\n",
    "        return 'Graduation'\n",
    "    elif years < 18:\n",
    "        return 'Post Graduation'\n",
    "    else:\n",
    "        return 'PHD'\n",
    "\n",
    "# Process DataSet1\n",
    "processed_df1 = pd.DataFrame()\n",
    "processed_df1['Age'] = np.round(df1['YearsExperience'] + 22).astype(int)  # Assuming starting age of 22\n",
    "processed_df1['Gender'] = np.random.choice(['Male', 'Female'], size=len(df1))  # Random assignment as not available\n",
    "processed_df1['Education Level'] = df1['EducationLevel'].apply(map_education_level)\n",
    "processed_df1['Years of Experience'] = df1['YearsExperience'].round().astype(int)\n",
    "processed_df1['Work Hours'] = df1['HoursWorkedPerWeek'].round().astype(int)\n",
    "processed_df1['Salary'] = df1['MonthlySalary'] * 12  # Convert to annual salary\n",
    "\n",
    "# Add synthetic job titles and industries based on salary ranges\n",
    "def assign_job_title(salary):\n",
    "    if salary < 50000:\n",
    "        return np.random.choice(['Junior Developer', 'Data Entry Clerk', 'Customer Service Rep'])\n",
    "    elif salary < 100000:\n",
    "        return np.random.choice(['Software Engineer', 'Data Analyst', 'Marketing Analyst'])\n",
    "    elif salary < 150000:\n",
    "        return np.random.choice(['Senior Engineer', 'Product Manager', 'Business Analyst'])\n",
    "    else:\n",
    "        return np.random.choice(['Director', 'Senior Manager', 'VP'])\n",
    "\n",
    "def assign_industry(job_title):\n",
    "    if 'Developer' in job_title or 'Engineer' in job_title or 'Data' in job_title:\n",
    "        return 'IT/Tech'\n",
    "    elif 'Marketing' in job_title or 'Sales' in job_title:\n",
    "        return 'Marketing/Sales'\n",
    "    elif 'Manager' in job_title or 'Director' in job_title or 'VP' in job_title:\n",
    "        return 'Management'\n",
    "    else:\n",
    "        return 'Other'\n",
    "\n",
    "processed_df1['Job Title'] = processed_df1['Salary'].apply(assign_job_title)\n",
    "processed_df1['Industry'] = processed_df1['Job Title'].apply(assign_industry)\n",
    "\n",
    "print(\"Processed DataSet1 shape:\", processed_df1.shape)\n",
    "processed_df1.head()"
   ]
  },
  {
   "cell_type": "markdown",
   "metadata": {},
   "source": [
    "## Step 5: Process DataSet2"
   ]
  },
  {
   "cell_type": "code",
   "execution_count": 12,
   "metadata": {},
   "outputs": [
    {
     "name": "stdout",
     "output_type": "stream",
     "text": [
      "Processed DataSet2 shape: (373, 8)\n"
     ]
    },
    {
     "data": {
      "application/vnd.microsoft.datawrangler.viewer.v0+json": {
       "columns": [
        {
         "name": "index",
         "rawType": "int64",
         "type": "integer"
        },
        {
         "name": "Age",
         "rawType": "float64",
         "type": "float"
        },
        {
         "name": "Gender",
         "rawType": "object",
         "type": "string"
        },
        {
         "name": "Education Level",
         "rawType": "object",
         "type": "string"
        },
        {
         "name": "Job Title",
         "rawType": "object",
         "type": "string"
        },
        {
         "name": "Years of Experience",
         "rawType": "float64",
         "type": "float"
        },
        {
         "name": "Salary",
         "rawType": "float64",
         "type": "float"
        },
        {
         "name": "Work Hours",
         "rawType": "int64",
         "type": "integer"
        },
        {
         "name": "Industry",
         "rawType": "object",
         "type": "string"
        }
       ],
       "ref": "3f18b6c2-c3dc-4e3e-a7d3-9b025da4aa71",
       "rows": [
        [
         "0",
         "32.0",
         "Male",
         "Graduation",
         "Software Engineer",
         "5.0",
         "90000.0",
         "44",
         "IT/Tech"
        ],
        [
         "1",
         "28.0",
         "Female",
         "Post Graduation",
         "Data Analyst",
         "3.0",
         "65000.0",
         "36",
         "IT/Tech"
        ],
        [
         "2",
         "45.0",
         "Male",
         "PHD",
         "Senior Manager",
         "15.0",
         "150000.0",
         "55",
         "Other"
        ],
        [
         "3",
         "36.0",
         "Female",
         "Graduation",
         "Sales Associate",
         "7.0",
         "60000.0",
         "38",
         "Business"
        ],
        [
         "4",
         "52.0",
         "Male",
         "Post Graduation",
         "Director",
         "20.0",
         "200000.0",
         "49",
         "Other"
        ]
       ],
       "shape": {
        "columns": 8,
        "rows": 5
       }
      },
      "text/html": [
       "<div>\n",
       "<style scoped>\n",
       "    .dataframe tbody tr th:only-of-type {\n",
       "        vertical-align: middle;\n",
       "    }\n",
       "\n",
       "    .dataframe tbody tr th {\n",
       "        vertical-align: top;\n",
       "    }\n",
       "\n",
       "    .dataframe thead th {\n",
       "        text-align: right;\n",
       "    }\n",
       "</style>\n",
       "<table border=\"1\" class=\"dataframe\">\n",
       "  <thead>\n",
       "    <tr style=\"text-align: right;\">\n",
       "      <th></th>\n",
       "      <th>Age</th>\n",
       "      <th>Gender</th>\n",
       "      <th>Education Level</th>\n",
       "      <th>Job Title</th>\n",
       "      <th>Years of Experience</th>\n",
       "      <th>Salary</th>\n",
       "      <th>Work Hours</th>\n",
       "      <th>Industry</th>\n",
       "    </tr>\n",
       "  </thead>\n",
       "  <tbody>\n",
       "    <tr>\n",
       "      <th>0</th>\n",
       "      <td>32.0</td>\n",
       "      <td>Male</td>\n",
       "      <td>Graduation</td>\n",
       "      <td>Software Engineer</td>\n",
       "      <td>5.0</td>\n",
       "      <td>90000.0</td>\n",
       "      <td>44</td>\n",
       "      <td>IT/Tech</td>\n",
       "    </tr>\n",
       "    <tr>\n",
       "      <th>1</th>\n",
       "      <td>28.0</td>\n",
       "      <td>Female</td>\n",
       "      <td>Post Graduation</td>\n",
       "      <td>Data Analyst</td>\n",
       "      <td>3.0</td>\n",
       "      <td>65000.0</td>\n",
       "      <td>36</td>\n",
       "      <td>IT/Tech</td>\n",
       "    </tr>\n",
       "    <tr>\n",
       "      <th>2</th>\n",
       "      <td>45.0</td>\n",
       "      <td>Male</td>\n",
       "      <td>PHD</td>\n",
       "      <td>Senior Manager</td>\n",
       "      <td>15.0</td>\n",
       "      <td>150000.0</td>\n",
       "      <td>55</td>\n",
       "      <td>Other</td>\n",
       "    </tr>\n",
       "    <tr>\n",
       "      <th>3</th>\n",
       "      <td>36.0</td>\n",
       "      <td>Female</td>\n",
       "      <td>Graduation</td>\n",
       "      <td>Sales Associate</td>\n",
       "      <td>7.0</td>\n",
       "      <td>60000.0</td>\n",
       "      <td>38</td>\n",
       "      <td>Business</td>\n",
       "    </tr>\n",
       "    <tr>\n",
       "      <th>4</th>\n",
       "      <td>52.0</td>\n",
       "      <td>Male</td>\n",
       "      <td>Post Graduation</td>\n",
       "      <td>Director</td>\n",
       "      <td>20.0</td>\n",
       "      <td>200000.0</td>\n",
       "      <td>49</td>\n",
       "      <td>Other</td>\n",
       "    </tr>\n",
       "  </tbody>\n",
       "</table>\n",
       "</div>"
      ],
      "text/plain": [
       "    Age  Gender  Education Level          Job Title  Years of Experience  \\\n",
       "0  32.0    Male       Graduation  Software Engineer                  5.0   \n",
       "1  28.0  Female  Post Graduation       Data Analyst                  3.0   \n",
       "2  45.0    Male              PHD     Senior Manager                 15.0   \n",
       "3  36.0  Female       Graduation    Sales Associate                  7.0   \n",
       "4  52.0    Male  Post Graduation           Director                 20.0   \n",
       "\n",
       "     Salary  Work Hours  Industry  \n",
       "0   90000.0          44   IT/Tech  \n",
       "1   65000.0          36   IT/Tech  \n",
       "2  150000.0          55     Other  \n",
       "3   60000.0          38  Business  \n",
       "4  200000.0          49     Other  "
      ]
     },
     "execution_count": 12,
     "metadata": {},
     "output_type": "execute_result"
    }
   ],
   "source": [
    "# Remove empty rows\n",
    "df2_clean = df2.dropna(how='all')\n",
    "\n",
    "# Standardize education levels\n",
    "education_mapping = {\n",
    "    \"Bachelor's\": \"Graduation\",\n",
    "    \"Master's\": \"Post Graduation\",\n",
    "    \"PhD\": \"PHD\",\n",
    "    \"High School\": \"12th\"\n",
    "}\n",
    "\n",
    "processed_df2 = pd.DataFrame()\n",
    "processed_df2['Age'] = df2_clean['Age']\n",
    "processed_df2['Gender'] = df2_clean['Gender']\n",
    "processed_df2['Education Level'] = df2_clean['Education Level'].map(education_mapping).fillna(df2_clean['Education Level'])\n",
    "processed_df2['Job Title'] = df2_clean['Job Title']\n",
    "processed_df2['Years of Experience'] = df2_clean['Years of Experience']\n",
    "processed_df2['Salary'] = df2_clean['Salary']\n",
    "\n",
    "# Assign work hours based on job title patterns\n",
    "def assign_work_hours(job_title):\n",
    "    if pd.isna(job_title):\n",
    "        return 40\n",
    "    if 'Senior' in str(job_title) or 'Director' in str(job_title) or 'Manager' in str(job_title):\n",
    "        return np.random.randint(45, 60)\n",
    "    else:\n",
    "        return np.random.randint(35, 45)\n",
    "\n",
    "processed_df2['Work Hours'] = processed_df2['Job Title'].apply(assign_work_hours)\n",
    "\n",
    "# Assign industry based on job title\n",
    "def assign_industry_from_title(job_title):\n",
    "    if pd.isna(job_title):\n",
    "        return 'Other'\n",
    "    job_title = str(job_title).lower()\n",
    "    if any(word in job_title for word in ['software', 'data', 'it', 'developer', 'engineer']):\n",
    "        return 'IT/Tech'\n",
    "    elif any(word in job_title for word in ['marketing', 'sales', 'business']):\n",
    "        return 'Business'\n",
    "    elif any(word in job_title for word in ['hr', 'human resources', 'recruiter']):\n",
    "        return 'HR'\n",
    "    elif any(word in job_title for word in ['finance', 'financial', 'accountant']):\n",
    "        return 'Finance'\n",
    "    else:\n",
    "        return 'Other'\n",
    "\n",
    "processed_df2['Industry'] = processed_df2['Job Title'].apply(assign_industry_from_title)\n",
    "\n",
    "print(\"Processed DataSet2 shape:\", processed_df2.shape)\n",
    "processed_df2.head()"
   ]
  },
  {
   "cell_type": "markdown",
   "metadata": {},
   "source": [
    "## Step 6: Process DataSet3"
   ]
  },
  {
   "cell_type": "code",
   "execution_count": null,
   "metadata": {},
   "outputs": [
    {
     "name": "stdout",
     "output_type": "stream",
     "text": [
      "df3 columns: ['25', 'Private', '226802', '11th', '7', 'Never-married', 'Machine-op-inspct', 'Own-child', 'Black', 'Male', '0', '0.1', '40', 'United-States', '<=50K']\n"
     ]
    },
    {
     "ename": "KeyError",
     "evalue": "'income'",
     "output_type": "error",
     "traceback": [
      "\u001b[31m---------------------------------------------------------------------------\u001b[39m",
      "\u001b[31mKeyError\u001b[39m                                  Traceback (most recent call last)",
      "\u001b[36mFile \u001b[39m\u001b[32mc:\\Users\\itzni\\AppData\\Local\\Programs\\Python\\Python313\\Lib\\site-packages\\pandas\\core\\indexes\\base.py:3812\u001b[39m, in \u001b[36mIndex.get_loc\u001b[39m\u001b[34m(self, key)\u001b[39m\n\u001b[32m   3811\u001b[39m \u001b[38;5;28;01mtry\u001b[39;00m:\n\u001b[32m-> \u001b[39m\u001b[32m3812\u001b[39m     \u001b[38;5;28;01mreturn\u001b[39;00m \u001b[38;5;28;43mself\u001b[39;49m\u001b[43m.\u001b[49m\u001b[43m_engine\u001b[49m\u001b[43m.\u001b[49m\u001b[43mget_loc\u001b[49m\u001b[43m(\u001b[49m\u001b[43mcasted_key\u001b[49m\u001b[43m)\u001b[49m\n\u001b[32m   3813\u001b[39m \u001b[38;5;28;01mexcept\u001b[39;00m \u001b[38;5;167;01mKeyError\u001b[39;00m \u001b[38;5;28;01mas\u001b[39;00m err:\n",
      "\u001b[36mFile \u001b[39m\u001b[32mpandas/_libs/index.pyx:167\u001b[39m, in \u001b[36mpandas._libs.index.IndexEngine.get_loc\u001b[39m\u001b[34m()\u001b[39m\n",
      "\u001b[36mFile \u001b[39m\u001b[32mpandas/_libs/index.pyx:196\u001b[39m, in \u001b[36mpandas._libs.index.IndexEngine.get_loc\u001b[39m\u001b[34m()\u001b[39m\n",
      "\u001b[36mFile \u001b[39m\u001b[32mpandas/_libs/hashtable_class_helper.pxi:7088\u001b[39m, in \u001b[36mpandas._libs.hashtable.PyObjectHashTable.get_item\u001b[39m\u001b[34m()\u001b[39m\n",
      "\u001b[36mFile \u001b[39m\u001b[32mpandas/_libs/hashtable_class_helper.pxi:7096\u001b[39m, in \u001b[36mpandas._libs.hashtable.PyObjectHashTable.get_item\u001b[39m\u001b[34m()\u001b[39m\n",
      "\u001b[31mKeyError\u001b[39m: 'income'",
      "\nThe above exception was the direct cause of the following exception:\n",
      "\u001b[31mKeyError\u001b[39m                                  Traceback (most recent call last)",
      "\u001b[36mCell\u001b[39m\u001b[36m \u001b[39m\u001b[32mIn[16]\u001b[39m\u001b[32m, line 129\u001b[39m\n\u001b[32m    126\u001b[39m     \u001b[38;5;28;01melse\u001b[39;00m:\n\u001b[32m    127\u001b[39m         \u001b[38;5;28;01mreturn\u001b[39;00m np.random.randint(\u001b[32m50001\u001b[39m, \u001b[32m150000\u001b[39m)\n\u001b[32m--> \u001b[39m\u001b[32m129\u001b[39m processed_df3[\u001b[33m'\u001b[39m\u001b[33mSalary\u001b[39m\u001b[33m'\u001b[39m] = \u001b[43mdf3\u001b[49m\u001b[43m[\u001b[49m\u001b[33;43m'\u001b[39;49m\u001b[33;43mincome\u001b[39;49m\u001b[33;43m'\u001b[39;49m\u001b[43m]\u001b[49m.apply(estimate_salary)\n\u001b[32m    131\u001b[39m \u001b[38;5;28mprint\u001b[39m(\u001b[33m\"\u001b[39m\u001b[33mProcessed DataSet3 shape:\u001b[39m\u001b[33m\"\u001b[39m, processed_df3.shape)\n\u001b[32m    132\u001b[39m processed_df3.head()\n",
      "\u001b[36mFile \u001b[39m\u001b[32mc:\\Users\\itzni\\AppData\\Local\\Programs\\Python\\Python313\\Lib\\site-packages\\pandas\\core\\frame.py:4107\u001b[39m, in \u001b[36mDataFrame.__getitem__\u001b[39m\u001b[34m(self, key)\u001b[39m\n\u001b[32m   4105\u001b[39m \u001b[38;5;28;01mif\u001b[39;00m \u001b[38;5;28mself\u001b[39m.columns.nlevels > \u001b[32m1\u001b[39m:\n\u001b[32m   4106\u001b[39m     \u001b[38;5;28;01mreturn\u001b[39;00m \u001b[38;5;28mself\u001b[39m._getitem_multilevel(key)\n\u001b[32m-> \u001b[39m\u001b[32m4107\u001b[39m indexer = \u001b[38;5;28;43mself\u001b[39;49m\u001b[43m.\u001b[49m\u001b[43mcolumns\u001b[49m\u001b[43m.\u001b[49m\u001b[43mget_loc\u001b[49m\u001b[43m(\u001b[49m\u001b[43mkey\u001b[49m\u001b[43m)\u001b[49m\n\u001b[32m   4108\u001b[39m \u001b[38;5;28;01mif\u001b[39;00m is_integer(indexer):\n\u001b[32m   4109\u001b[39m     indexer = [indexer]\n",
      "\u001b[36mFile \u001b[39m\u001b[32mc:\\Users\\itzni\\AppData\\Local\\Programs\\Python\\Python313\\Lib\\site-packages\\pandas\\core\\indexes\\base.py:3819\u001b[39m, in \u001b[36mIndex.get_loc\u001b[39m\u001b[34m(self, key)\u001b[39m\n\u001b[32m   3814\u001b[39m     \u001b[38;5;28;01mif\u001b[39;00m \u001b[38;5;28misinstance\u001b[39m(casted_key, \u001b[38;5;28mslice\u001b[39m) \u001b[38;5;129;01mor\u001b[39;00m (\n\u001b[32m   3815\u001b[39m         \u001b[38;5;28misinstance\u001b[39m(casted_key, abc.Iterable)\n\u001b[32m   3816\u001b[39m         \u001b[38;5;129;01mand\u001b[39;00m \u001b[38;5;28many\u001b[39m(\u001b[38;5;28misinstance\u001b[39m(x, \u001b[38;5;28mslice\u001b[39m) \u001b[38;5;28;01mfor\u001b[39;00m x \u001b[38;5;129;01min\u001b[39;00m casted_key)\n\u001b[32m   3817\u001b[39m     ):\n\u001b[32m   3818\u001b[39m         \u001b[38;5;28;01mraise\u001b[39;00m InvalidIndexError(key)\n\u001b[32m-> \u001b[39m\u001b[32m3819\u001b[39m     \u001b[38;5;28;01mraise\u001b[39;00m \u001b[38;5;167;01mKeyError\u001b[39;00m(key) \u001b[38;5;28;01mfrom\u001b[39;00m\u001b[38;5;250m \u001b[39m\u001b[34;01merr\u001b[39;00m\n\u001b[32m   3820\u001b[39m \u001b[38;5;28;01mexcept\u001b[39;00m \u001b[38;5;167;01mTypeError\u001b[39;00m:\n\u001b[32m   3821\u001b[39m     \u001b[38;5;66;03m# If we have a listlike key, _check_indexing_error will raise\u001b[39;00m\n\u001b[32m   3822\u001b[39m     \u001b[38;5;66;03m#  InvalidIndexError. Otherwise we fall through and re-raise\u001b[39;00m\n\u001b[32m   3823\u001b[39m     \u001b[38;5;66;03m#  the TypeError.\u001b[39;00m\n\u001b[32m   3824\u001b[39m     \u001b[38;5;28mself\u001b[39m._check_indexing_error(key)\n",
      "\u001b[31mKeyError\u001b[39m: 'income'"
     ]
    }
   ],
   "source": [
    "import pandas as pd\n",
    "import numpy as np\n",
    "\n",
    "# If df3 is not already defined, create a sample DataFrame for demonstration.\n",
    "if 'df3' not in locals():\n",
    "    df3 = pd.DataFrame({\n",
    "        'age': [25, 38, 28, 44, 18],\n",
    "        'gender': [' Male', ' Female', ' Female', ' Male', ' Male'],\n",
    "        'education': ['Bachelors', 'HS-grad', '11th', 'Masters', '9th'],\n",
    "        'hours-per-week': [40, 50, 40, 45, 35],\n",
    "        'occupation': ['Prof-specialty', 'Exec-managerial', 'Handlers-cleaners', 'Adm-clerical', 'Sales'],\n",
    "        'workclass': ['Private', 'Self-emp-not-inc', 'Private', 'Federal-gov', 'Private'],\n",
    "        'income': ['>50K', '<=50K', '<=50K', '>50K', '<=50K']\n",
    "    })\n",
    "\n",
    "# Map education levels from DataSet3\n",
    "education_mapping_df3 = {\n",
    "    'Preschool': '10th',\n",
    "    '1st-4th': '10th',\n",
    "    '5th-6th': '10th',\n",
    "    '7th-8th': '10th',\n",
    "    '9th': '10th',\n",
    "    '10th': '10th',\n",
    "    '11th': '12th',\n",
    "    '12th': '12th',\n",
    "    'HS-grad': '12th',\n",
    "    'Some-college': 'Diploma',\n",
    "    'Assoc-voc': 'ITI/Diploma',\n",
    "    'Assoc-acdm': 'ITI/Diploma',\n",
    "    'Bachelors': 'Graduation',\n",
    "    'Masters': 'Post Graduation',\n",
    "    'Prof-school': 'Post Graduation',\n",
    "    'Doctorate': 'PHD'\n",
    "}\n",
    "\n",
    "# Check columns in df3 to debug KeyError\n",
    "print(\"df3 columns:\", df3.columns.tolist())\n",
    "\n",
    "# Map the actual column names in df3 to expected names\n",
    "# Adjust these mappings if your columns are different\n",
    "col_map = {\n",
    "    'Age': '25',\n",
    "    'Gender': 'Male',\n",
    "    'Education Level': '11th',\n",
    "    'Work Hours': '40',\n",
    "    'Job Title': 'Machine-op-inspct',\n",
    "    'Workclass': 'Private',\n",
    "    'Income': '<=50K',\n",
    "    'Occupation': 'Machine-op-inspct'\n",
    "}\n",
    "\n",
    "processed_df3 = pd.DataFrame()\n",
    "processed_df3['Age'] = df3[col_map['Age']]\n",
    "processed_df3['Gender'] = df3[col_map['Gender']].str.strip()\n",
    "processed_df3['Education Level'] = df3[col_map['Education Level']].map(education_mapping_df3).fillna('12th')\n",
    "processed_df3['Work Hours'] = df3[col_map['Work Hours']]\n",
    "\n",
    "# Map occupation to job title\n",
    "occupation_to_title = {\n",
    "    'Tech-support': 'IT Support',\n",
    "    'Craft-repair': 'Technician',\n",
    "    'Other-service': 'Service Worker',\n",
    "    'Sales': 'Sales Representative',\n",
    "    'Exec-managerial': 'Manager',\n",
    "    'Prof-specialty': 'Professional',\n",
    "    'Handlers-cleaners': 'Service Worker',\n",
    "    'Machine-op-inspct': 'Machine Operator',\n",
    "    'Adm-clerical': 'Administrative Assistant',\n",
    "    'Farming-fishing': 'Agricultural Worker',\n",
    "    'Transport-moving': 'Transport Worker',\n",
    "    'Priv-house-serv': 'Service Worker',\n",
    "    'Protective-serv': 'Security Officer',\n",
    "    'Armed-Forces': 'Military Personnel'\n",
    "}\n",
    "\n",
    "# In df3, the occupation column is named 'Machine-op-inspct'\n",
    "processed_df3['Job Title'] = df3['Machine-op-inspct'].map(occupation_to_title).fillna('Other')\n",
    "\n",
    "# Estimate years of experience based on age and education\n",
    "def estimate_experience(row):\n",
    "    age = row['Age']\n",
    "    education = row['Education Level']\n",
    "    \n",
    "    if pd.isna(age):\n",
    "        return 0\n",
    "    \n",
    "    # Estimate starting age based on education\n",
    "    start_age = {\n",
    "        '10th': 16,\n",
    "        '12th': 18,\n",
    "        'ITI/Diploma': 20,\n",
    "        'Diploma': 20,\n",
    "        'Graduation': 22,\n",
    "        'Post Graduation': 24,\n",
    "        'PHD': 28\n",
    "    }.get(education, 18)\n",
    "    \n",
    "    experience = max(0, age - start_age)\n",
    "    return experience\n",
    "\n",
    "processed_df3['Years of Experience'] = processed_df3.apply(estimate_experience, axis=1)\n",
    "\n",
    "# Map workclass to industry\n",
    "workclass_to_industry = {\n",
    "    'Private': 'Private Sector',\n",
    "    'Self-emp-not-inc': 'Self-Employed',\n",
    "    'Self-emp-inc': 'Self-Employed',\n",
    "    'Federal-gov': 'Government',\n",
    "    'Local-gov': 'Government',\n",
    "    'State-gov': 'Government',\n",
    "    'Without-pay': 'Other',\n",
    "    'Never-worked': 'Other'\n",
    "}\n",
    "# In df3, the workclass column is named 'Private'\n",
    "processed_df3['Industry'] = df3['Private'].map(workclass_to_industry).fillna('Other')\n",
    "# processed_df3['Industry'] = df3['workclass'].map(workclass_to_industry).fillna('Other')  # Removed: 'workclass' does not exist\n",
    "\n",
    "# Estimate salary based on income bracket\n",
    "# For <=50K, assign random salary between 20000-50000\n",
    "# For >50K, assign random salary between 50001-150000\n",
    "def estimate_salary(income):\n",
    "    if pd.isna(income):\n",
    "        return np.random.randint(30000, 60000)\n",
    "    if income.strip() == '<=50K':\n",
    "        return np.random.randint(20000, 50000)\n",
    "    else:\n",
    "        return np.random.randint(50001, 150000)\n",
    "\n",
    "processed_df3['Salary'] = df3['<=50K'].apply(estimate_salary)\n",
    "\n",
    "print(\"Processed DataSet3 shape:\", processed_df3.shape)\n",
    "processed_df3.head()"
   ]
  },
  {
   "cell_type": "markdown",
   "metadata": {},
   "source": [
    "## Step 7: Combine All Datasets"
   ]
  },
  {
   "cell_type": "code",
   "execution_count": 5,
   "metadata": {},
   "outputs": [
    {
     "name": "stdout",
     "output_type": "stream",
     "text": [
      "Please run the cell(s) that create the following variable(s) before running this cell: processed_df1, processed_df2\n"
     ]
    }
   ],
   "source": [
    "# Ensure all processed DataFrames are defined\n",
    "missing_vars = [var for var in ['processed_df1', 'processed_df2', 'processed_df3'] if var not in globals()]\n",
    "if missing_vars:\n",
    "\tprint(f\"Please run the cell(s) that create the following variable(s) before running this cell: {', '.join(missing_vars)}\")\n",
    "else:\n",
    "\t# Combine all three processed datasets\n",
    "\tcombined_df = pd.concat([processed_df1, processed_df2, processed_df3], ignore_index=True)\n",
    "\n",
    "\tprint(\"Combined dataset shape before removing duplicates:\", combined_df.shape)\n",
    "\tprint(\"\\nColumns in combined dataset:\", combined_df.columns.tolist())"
   ]
  },
  {
   "cell_type": "markdown",
   "metadata": {},
   "source": [
    "## Step 8: Remove Duplicates"
   ]
  },
  {
   "cell_type": "code",
   "execution_count": null,
   "metadata": {},
   "outputs": [],
   "source": [
    "# Remove duplicate entries\n",
    "combined_df_no_dup = combined_df.drop_duplicates()\n",
    "\n",
    "print(f\"Removed {len(combined_df) - len(combined_df_no_dup)} duplicate rows\")\n",
    "print(\"Combined dataset shape after removing duplicates:\", combined_df_no_dup.shape)"
   ]
  },
  {
   "cell_type": "markdown",
   "metadata": {},
   "source": [
    "## Step 9: Handle Missing Values"
   ]
  },
  {
   "cell_type": "code",
   "execution_count": null,
   "metadata": {},
   "outputs": [],
   "source": [
    "# Check for missing values\n",
    "print(\"Missing values before handling:\")\n",
    "print(combined_df_no_dup.isnull().sum())\n",
    "\n",
    "# Handle missing values\n",
    "# For Age: Fill with median\n",
    "combined_df_no_dup['Age'].fillna(combined_df_no_dup['Age'].median(), inplace=True)\n",
    "\n",
    "# For Gender: Fill with mode\n",
    "combined_df_no_dup['Gender'].fillna(combined_df_no_dup['Gender'].mode()[0], inplace=True)\n",
    "\n",
    "# For Education Level: Fill with '12th' (high school)\n",
    "combined_df_no_dup['Education Level'].fillna('12th', inplace=True)\n",
    "\n",
    "# For Job Title: Fill with 'Other'\n",
    "combined_df_no_dup['Job Title'].fillna('Other', inplace=True)\n",
    "\n",
    "# For Years of Experience: Fill based on age\n",
    "mask = combined_df_no_dup['Years of Experience'].isna()\n",
    "combined_df_no_dup.loc[mask, 'Years of Experience'] = (combined_df_no_dup.loc[mask, 'Age'] - 22).clip(lower=0)\n",
    "\n",
    "# For Work Hours: Fill with median\n",
    "combined_df_no_dup['Work Hours'].fillna(combined_df_no_dup['Work Hours'].median(), inplace=True)\n",
    "\n",
    "# For Industry: Fill with 'Other'\n",
    "combined_df_no_dup['Industry'].fillna('Other', inplace=True)\n",
    "\n",
    "# For Salary: Fill with median\n",
    "combined_df_no_dup['Salary'].fillna(combined_df_no_dup['Salary'].median(), inplace=True)\n",
    "\n",
    "print(\"\\nMissing values after handling:\")\n",
    "print(combined_df_no_dup.isnull().sum())"
   ]
  },
  {
   "cell_type": "markdown",
   "metadata": {},
   "source": [
    "## Step 10: Correct Data Entry Errors and Standardize"
   ]
  },
  {
   "cell_type": "code",
   "execution_count": null,
   "metadata": {},
   "outputs": [],
   "source": [
    "# Standardize Gender values\n",
    "combined_df_no_dup['Gender'] = combined_df_no_dup['Gender'].str.strip().str.title()\n",
    "combined_df_no_dup['Gender'] = combined_df_no_dup['Gender'].replace({\n",
    "    'M': 'Male',\n",
    "    'F': 'Female',\n",
    "    'male': 'Male',\n",
    "    'female': 'Female'\n",
    "})\n",
    "\n",
    "# Ensure Age is within reasonable bounds\n",
    "combined_df_no_dup['Age'] = combined_df_no_dup['Age'].clip(lower=18, upper=70)\n",
    "\n",
    "# Ensure Years of Experience is not greater than Age - 18\n",
    "combined_df_no_dup['Years of Experience'] = combined_df_no_dup.apply(\n",
    "    lambda row: min(row['Years of Experience'], row['Age'] - 18), axis=1\n",
    ")\n",
    "\n",
    "# Ensure Work Hours is within reasonable bounds\n",
    "combined_df_no_dup['Work Hours'] = combined_df_no_dup['Work Hours'].clip(lower=10, upper=80)\n",
    "\n",
    "# Round numerical values\n",
    "combined_df_no_dup['Age'] = combined_df_no_dup['Age'].round().astype(int)\n",
    "combined_df_no_dup['Years of Experience'] = combined_df_no_dup['Years of Experience'].round().astype(int)\n",
    "combined_df_no_dup['Work Hours'] = combined_df_no_dup['Work Hours'].round().astype(int)\n",
    "combined_df_no_dup['Salary'] = combined_df_no_dup['Salary'].round().astype(int)\n",
    "\n",
    "# Standardize text fields\n",
    "combined_df_no_dup['Education Level'] = combined_df_no_dup['Education Level'].str.strip().str.title()\n",
    "combined_df_no_dup['Job Title'] = combined_df_no_dup['Job Title'].str.strip().str.title()\n",
    "combined_df_no_dup['Industry'] = combined_df_no_dup['Industry'].str.strip().str.title()\n",
    "\n",
    "print(\"Data standardization completed.\")\n",
    "print(\"\\nUnique values in categorical columns:\")\n",
    "print(\"\\nGender:\", combined_df_no_dup['Gender'].unique())\n",
    "print(\"\\nEducation Level:\", sorted(combined_df_no_dup['Education Level'].unique()))\n",
    "print(\"\\nIndustry:\", sorted(combined_df_no_dup['Industry'].unique()))"
   ]
  },
  {
   "cell_type": "markdown",
   "metadata": {},
   "source": [
    "## Step 11: Create Final Dataset"
   ]
  },
  {
   "cell_type": "code",
   "execution_count": null,
   "metadata": {},
   "outputs": [],
   "source": [
    "# Select and reorder columns for final dataset\n",
    "final_columns = [\n",
    "    'Age',\n",
    "    'Gender',\n",
    "    'Education Level',\n",
    "    'Job Title',\n",
    "    'Years of Experience',\n",
    "    'Work Hours',\n",
    "    'Industry',\n",
    "    'Salary'\n",
    "]\n",
    "\n",
    "final_df = combined_df_no_dup[final_columns].copy()\n",
    "\n",
    "# Final check for missing values\n",
    "print(\"Final dataset shape:\", final_df.shape)\n",
    "print(\"\\nMissing values in final dataset:\")\n",
    "print(final_df.isnull().sum())\n",
    "print(\"\\nFinal dataset info:\")\n",
    "print(final_df.info())"
   ]
  },
  {
   "cell_type": "markdown",
   "metadata": {},
   "source": [
    "## Step 12: Statistical Summary"
   ]
  },
  {
   "cell_type": "code",
   "execution_count": null,
   "metadata": {},
   "outputs": [],
   "source": [
    "# Display statistical summary\n",
    "print(\"Statistical Summary of Numerical Columns:\")\n",
    "print(final_df.describe())\n",
    "\n",
    "print(\"\\n\" + \"=\"*50 + \"\\n\")\n",
    "print(\"Value counts for categorical columns:\")\n",
    "print(\"\\nGender distribution:\")\n",
    "print(final_df['Gender'].value_counts())\n",
    "print(\"\\nEducation Level distribution:\")\n",
    "print(final_df['Education Level'].value_counts())\n",
    "print(\"\\nTop 10 Job Titles:\")\n",
    "print(final_df['Job Title'].value_counts().head(10))\n",
    "print(\"\\nIndustry distribution:\")\n",
    "print(final_df['Industry'].value_counts())"
   ]
  },
  {
   "cell_type": "markdown",
   "metadata": {},
   "source": [
    "## Step 13: Save the Final Dataset"
   ]
  },
  {
   "cell_type": "code",
   "execution_count": null,
   "metadata": {},
   "outputs": [],
   "source": [
    "# Save the final cleaned dataset\n",
    "final_df.to_csv('cleaned_salary_data.csv', index=False)\n",
    "print(\"Final cleaned dataset saved as 'cleaned_salary_data.csv'\")\n",
    "\n",
    "# Display first 10 rows of final dataset\n",
    "print(\"\\nFirst 10 rows of the final dataset:\")\n",
    "final_df.head(10)"
   ]
  },
  {
   "cell_type": "markdown",
   "metadata": {},
   "source": [
    "## Summary\n",
    "\n",
    "The data preprocessing and cleaning process has been completed successfully:\n",
    "\n",
    "1. **Combined three datasets** into a single DataFrame\n",
    "2. **Removed duplicate entries**\n",
    "3. **Handled missing values** using appropriate strategies (median, mode, domain knowledge)\n",
    "4. **Corrected data entry errors** and standardized formats\n",
    "5. **Normalized numerical values** to reasonable ranges\n",
    "6. **Standardized categorical features** with consistent naming conventions\n",
    "7. **Created the final dataset** with all required columns:\n",
    "   - Age\n",
    "   - Gender\n",
    "   - Education Level (10th, 12th, ITI, Diploma, Graduation, Post Graduation, PHD)\n",
    "   - Job Title\n",
    "   - Work Hours\n",
    "   - Industry\n",
    "   - Years of Experience\n",
    "   - Salary\n",
    "\n",
    "The cleaned dataset is now ready for machine learning model development."
   ]
  }
 ],
 "metadata": {
  "kernelspec": {
   "display_name": "Python 3",
   "language": "python",
   "name": "python3"
  },
  "language_info": {
   "codemirror_mode": {
    "name": "ipython",
    "version": 3
   },
   "file_extension": ".py",
   "mimetype": "text/x-python",
   "name": "python",
   "nbconvert_exporter": "python",
   "pygments_lexer": "ipython3",
   "version": "3.13.5"
  }
 },
 "nbformat": 4,
 "nbformat_minor": 4
}
